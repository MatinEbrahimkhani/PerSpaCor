{
 "cells": [
  {
   "cell_type": "markdown",
   "source": [
    "\n",
    "# Rebasing the project\n",
    "#### Corpus\n",
    "DONE - push to github  \n",
    "DONE - write and complete Corpus processor \n",
    "Done - Test builder\n",
    "- Test Loader\n",
    "#### Utility\n",
    "- rebase labeler\n",
    "- rebase label evaluator\n",
    "- rebase tokenizer evaluator\n",
    "#### Models\n",
    "- Manage Model Versions\n",
    "- Find difference in Versions\n",
    "\n"
   ],
   "metadata": {
    "collapsed": false
   },
   "id": "210affb2bf2f5b9b"
  },
  {
   "cell_type": "code",
   "execution_count": null,
   "outputs": [],
   "source": [],
   "metadata": {
    "collapsed": false
   },
   "id": "d60734d9ec99429d"
  },
  {
   "cell_type": "markdown",
   "source": [
    "\n",
    "# Main Tasks\n",
    "#### - Code Overview and management\n",
    "#### - Training Arguments\n",
    "#### - Not Showing Training status\n",
    "#### - Run the model\n",
    "\n"
   ],
   "metadata": {
    "collapsed": false
   },
   "id": "7e7cc8742433fc7f"
  },
  {
   "cell_type": "code",
   "execution_count": null,
   "outputs": [],
   "source": [],
   "metadata": {
    "collapsed": false,
    "ExecuteTime": {
     "end_time": "2023-12-23T20:48:14.481441955Z",
     "start_time": "2023-12-23T20:48:14.468491540Z"
    }
   },
   "id": "ef529ed9efa5c1e2"
  },
  {
   "cell_type": "markdown",
   "source": [
    "\n",
    "# Code Overview Process\n",
    "#### Corpus\n",
    "- clean and join datasets\n",
    "- create statistics of the data\n",
    "    - sentence length histogram\n",
    "    - Average char num in sentence\n",
    "    - Space and half space ratio chars\n",
    "- using Whole or sentences\n",
    "- redoing the preprocessing\n",
    "    - loading data on HF dataset\n",
    "    - creating a nice API for it"
   ],
   "metadata": {
    "collapsed": false
   },
   "id": "8f3f00ef306c6557"
  },
  {
   "cell_type": "code",
   "execution_count": null,
   "outputs": [],
   "source": [],
   "metadata": {
    "collapsed": false
   },
   "id": "fc79e87737ff6a24"
  }
 ],
 "metadata": {
  "kernelspec": {
   "display_name": "Python 3",
   "language": "python",
   "name": "python3"
  },
  "language_info": {
   "codemirror_mode": {
    "name": "ipython",
    "version": 2
   },
   "file_extension": ".py",
   "mimetype": "text/x-python",
   "name": "python",
   "nbconvert_exporter": "python",
   "pygments_lexer": "ipython2",
   "version": "2.7.6"
  }
 },
 "nbformat": 4,
 "nbformat_minor": 5
}
